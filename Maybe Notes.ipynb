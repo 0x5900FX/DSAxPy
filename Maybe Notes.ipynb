{
 "cells": [
  {
   "cell_type": "code",
   "execution_count": null,
   "id": "initial_id",
   "metadata": {
    "collapsed": true
   },
   "outputs": [],
   "source": [
    ""
   ]
  },
  {
   "metadata": {},
   "cell_type": "markdown",
   "source": [
    "### Algorithms\n",
    "\n",
    "\n",
    "A way to implement operation using a data structure or group of structure.\n",
    "\n",
    "\n",
    "\n",
    "Database - > collection of data\n",
    "Record -> group of related data\n",
    "field -> row of record\n",
    "key -> one of filed to search for record or sort them\n",
    "\n",
    "\n",
    "### Sequences\n",
    "\n",
    "built in data type looking like an array is list\n",
    "\n",
    "unicode characters can also be used as variables\n",
    "\n",
    "datat type can be sliced\n",
    "digit -> '0123456'\n",
    "data [3] -> 3\n",
    "data [-1] = last one -> 6\n",
    "data [3:6] -> 345\n",
    "data[:-2] -> 01234\n",
    "\n",
    "\n",
    "sequence data types can be concatanated, multiplied searched & enumed.\n",
    "[1,2,3] + ['a','b'] -> [1,2,3,'a','b']\n",
    "'0x00x00x00x00x0'  -> 0x0 * 3\n",
    "3 in [1,2,3] -> True\n",
    "\n",
    "iteration\n",
    "``` python\n",
    "total = 0\n",
    "for x in [1,2,3,4,50]:\n",
    "    total += x\n",
    "\n",
    "total\n",
    "```\n",
    "\n",
    "\n"
   ],
   "id": "d665e6b30f408514"
  },
  {
   "metadata": {
    "jupyter": {
     "is_executing": true
    }
   },
   "cell_type": "code",
   "source": [
    "2 + 2 # doing simple addition\n",
    "\n",
    "2 ** 3  # 2 raised to power of 3\n",
    "\n",
    "a = [1,'a',False] # start with index -\n",
    "a[0]  = 1\n",
    "\n",
    "\n",
    "\n"
   ],
   "id": "c987a4a2fdc17694",
   "outputs": [],
   "execution_count": null
  }
 ],
 "metadata": {
  "kernelspec": {
   "display_name": "Python 3",
   "language": "python",
   "name": "python3"
  },
  "language_info": {
   "codemirror_mode": {
    "name": "ipython",
    "version": 2
   },
   "file_extension": ".py",
   "mimetype": "text/x-python",
   "name": "python",
   "nbconvert_exporter": "python",
   "pygments_lexer": "ipython2",
   "version": "2.7.6"
  }
 },
 "nbformat": 4,
 "nbformat_minor": 5
}
